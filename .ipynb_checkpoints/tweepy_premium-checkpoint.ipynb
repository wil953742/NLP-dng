{
 "cells": [
  {
   "cell_type": "code",
   "execution_count": null,
   "id": "318f2ac2",
   "metadata": {},
   "outputs": [],
   "source": [
    "import tweepy\n",
    "\n",
    "auth = tweepy.OAuth2BearerHandler(\"AAAAAAAAAAAAAAAAAAAAAI%2BXcQEAAAAAyps%2Flm3uf3Z8trj6NT7Sn8B7sXU%3DNbTYOcg3MMfMn9oipgxTpkpf8B1G94VBPGqZrJIaL2QRrDXAqA\")\n",
    "api = tweepy.API(auth)"
   ]
  }
 ],
 "metadata": {
  "kernelspec": {
   "display_name": "Python 3 (ipykernel)",
   "language": "python",
   "name": "python3"
  },
  "language_info": {
   "codemirror_mode": {
    "name": "ipython",
    "version": 3
   },
   "file_extension": ".py",
   "mimetype": "text/x-python",
   "name": "python",
   "nbconvert_exporter": "python",
   "pygments_lexer": "ipython3",
   "version": "3.9.7"
  }
 },
 "nbformat": 4,
 "nbformat_minor": 5
}
